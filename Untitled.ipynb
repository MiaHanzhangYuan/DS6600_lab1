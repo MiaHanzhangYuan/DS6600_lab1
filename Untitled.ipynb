{
 "cells": [
  {
   "cell_type": "markdown",
   "id": "41e9b23c-ac11-4bf1-932a-cd6b03104533",
   "metadata": {},
   "source": [
    "2.a"
   ]
  },
  {
   "cell_type": "markdown",
   "id": "6e8e69ab-c1ab-4038-81ae-e99f00ee2140",
   "metadata": {
    "jp-MarkdownHeadingCollapsed": true
   },
   "source": [
    "[[source]]\n",
    "url = \"https://pypi.org/simple\"\n",
    "verify_ssl = true\n",
    "name = \"pypi\"\n",
    "\n",
    "[packages]\n",
    "numpy = \"==1.25.2\"\n",
    "pandas = \"==2.0.3\"\n",
    "matplotlib = \"==3.7.2\"\n",
    "requests = \"==2.31.0\"\n",
    "jupyterlab = \"==4.0.5\"\n",
    "ipykernel = \"==6.25.1\"\n",
    "\n",
    "[dev-packages]\n",
    "\n",
    "[requires]\n",
    "python_version = \"3.11\"\n"
   ]
  },
  {
   "cell_type": "markdown",
   "id": "abd933d2-984e-483b-8608-54727fe5fe51",
   "metadata": {},
   "source": [
    "2.b"
   ]
  },
  {
   "cell_type": "code",
   "execution_count": 1,
   "id": "06221479-c376-4424-b0c5-d0e5382ccb1b",
   "metadata": {},
   "outputs": [
    {
     "name": "stdout",
     "output_type": "stream",
     "text": [
      "Python 3.11.4\n"
     ]
    }
   ],
   "source": [
    "!python --version"
   ]
  },
  {
   "cell_type": "markdown",
   "id": "4bc782f7-0a06-465f-955a-fe52cf3c56cc",
   "metadata": {},
   "source": [
    "2.c"
   ]
  },
  {
   "cell_type": "code",
   "execution_count": 2,
   "id": "e00a2ce1-eaad-4aed-a4c7-23ddd392d672",
   "metadata": {},
   "outputs": [],
   "source": [
    "import numpy\n",
    "import pandas \n",
    "import matplotlib\n",
    "import requests"
   ]
  },
  {
   "cell_type": "markdown",
   "id": "6e0b9879-74e1-4256-bed1-85092cf18a14",
   "metadata": {},
   "source": [
    "2.d"
   ]
  },
  {
   "cell_type": "code",
   "execution_count": 3,
   "id": "720f0923-3578-4373-a632-48b33c01c255",
   "metadata": {},
   "outputs": [
    {
     "ename": "ModuleNotFoundError",
     "evalue": "No module named 'sklearn'",
     "output_type": "error",
     "traceback": [
      "\u001b[0;31m---------------------------------------------------------------------------\u001b[0m",
      "\u001b[0;31mModuleNotFoundError\u001b[0m                       Traceback (most recent call last)",
      "Cell \u001b[0;32mIn[3], line 1\u001b[0m\n\u001b[0;32m----> 1\u001b[0m \u001b[38;5;28;01mimport\u001b[39;00m \u001b[38;5;21;01msklearn\u001b[39;00m\n",
      "\u001b[0;31mModuleNotFoundError\u001b[0m: No module named 'sklearn'"
     ]
    }
   ],
   "source": [
    "import sklearn"
   ]
  },
  {
   "cell_type": "markdown",
   "id": "7be4e3b2-94f5-4f3f-8a8a-d1dbea8a077d",
   "metadata": {},
   "source": [
    "3"
   ]
  },
  {
   "cell_type": "markdown",
   "id": "bb695a39-4a0b-4650-94f2-e50a1ab83df2",
   "metadata": {},
   "source": [
    "(a): Virtual machine:</br> \n",
    "In this case, we need to make sure the app can be run on any hardware, so a virtual machine is necessary. I also read from website that \"containers are process-level isolated, and one container can affect others by compromising the stability of the kernel\", which indicates if we use a container instead of VM in this case, we might be faced with security problem.</br>\n",
    "\n",
    "(b): Global environment of a single computer:</br> \n",
    "Because \"they don't need your code or data, just the report\", which means the data processing and analysis would be done just on my end.</br>\n",
    "\n",
    "(c): Container:</br> \n",
    "In this case we only need to make sure several docker image could work and containers virtualize the operating system so the application can run independently on any platform. VM may not be necessary. </br>\n",
    "\n",
    "(d): Virtual environment:</br> \n",
    "In this case I only need to make sure the codes I wrote before would still in fuction, so a virtual environment in which I can still use the a collection of dependencies that ensure one or more applications can work together is necessary; but higher level of isolation status is not, because the next level of isolation, which is container, has its own \"process space, file system, network space, ipc space, etc.\"</br>\n"
   ]
  },
  {
   "cell_type": "markdown",
   "id": "289c9ad7-d833-4906-b067-3004831dabe9",
   "metadata": {},
   "source": [
    "4.a"
   ]
  },
  {
   "cell_type": "markdown",
   "id": "5d071e58-bfd5-4276-a74d-e9ec739e535f",
   "metadata": {},
   "source": [
    "\n",
    "\\# syntax=docker/dockerfile:1\n",
    "\n",
    "FROM ubuntu:latest\n",
    "\n",
    "COPY requirements.txt requirements.txt\n",
    "\n",
    "RUN apt-get update\n",
    "\n",
    "RUN apt-get install -y python3\n",
    "\n",
    "WORKDIR /DS6600_lab1\n",
    "\n",
    "EXPOSE 8888\n",
    "\n",
    "CMD [“python3”]\n",
    "\n"
   ]
  },
  {
   "cell_type": "markdown",
   "id": "c6f1b27e-485c-4434-a417-14a33ccdd944",
   "metadata": {},
   "source": [
    "4.b"
   ]
  },
  {
   "cell_type": "markdown",
   "id": "b3117c3d-3810-4d3f-a1da-4a9fe8ebd3c7",
   "metadata": {},
   "source": [
    "\n",
    "[+] Building 1.6s (12/12) FINISHED                  docker:desktop-linux\n",
    " => [internal] load build definition from Dockerfile                0.0s\n",
    " => => transferring dockerfile: 418B                                0.0s\n",
    " => [internal] load .dockerignore                                   0.0s\n",
    " => => transferring context: 2B                                     0.0s\n",
    " => resolve image config for docker.io/docker/dockerfile:1          0.3s\n",
    " => CACHED docker-image://docker.io/docker/dockerfile:1@sha256:ac8  0.0s\n",
    " => [internal] load metadata for docker.io/library/ubuntu:latest    1.1s\n",
    " => [internal] load build context                                   0.0s\n",
    " => => transferring context: 127B                                   0.0s\n",
    " => [1/5] FROM docker.io/library/ubuntu:latest@sha256:aabed3296a3d  0.0s\n",
    " => CACHED [2/5] COPY requirements.txt requirements.txt             0.0s\n",
    " => CACHED [3/5] RUN apt-get update                                 0.0s\n",
    " => CACHED [4/5] RUN apt-get install -y python3                     0.0s\n",
    " => CACHED [5/5] WORKDIR /DS6600_lab1                               0.0s\n",
    " => exporting to image                                              0.0s\n",
    " => => exporting layers                                             0.0s\n",
    " => => writing image sha256:a928fa2f91fd4084cdff03415001c67e847174  0.0s\n",
    " => => naming to docker.io/library/myfirstdocker                    0.0s\n",
    "\n",
    "What's Next?\n",
    "  View summary of image vulnerabilities and recommendations → docker scout quickview"
   ]
  },
  {
   "cell_type": "markdown",
   "id": "20e50e77-ecb1-4810-96ec-0f027e1a83e3",
   "metadata": {},
   "source": [
    "4.c"
   ]
  },
  {
   "cell_type": "markdown",
   "id": "b540653d-b1c8-4ff9-bbbd-f3ac3b2b999b",
   "metadata": {},
   "source": [
    "Python 3.10.12 (main, Jun 11 2023, 05:26:28) [GCC 11.4.0] on linux\n",
    "Type \"help\", \"copyright\", \"credits\" or \"license\" for more information.\n",
    ">>> \n"
   ]
  },
  {
   "cell_type": "markdown",
   "id": "0a881465-4631-42ab-9976-84e6a40d504a",
   "metadata": {},
   "source": [
    "6"
   ]
  },
  {
   "cell_type": "markdown",
   "id": "3f901fdc-0074-4656-81fd-ea4896fd3e53",
   "metadata": {},
   "source": [
    "\n",
    "          It is written in the Book of Manannan Mac Lir:\n",
    "     \n",
    "         After the Creation, the cruel god Moloch rebelled\n",
    "         against the authority of Marduk the Creator.\n",
    "         Moloch stole from Marduk the most powerful of all\n",
    "         the artifacts of the gods, the Amulet of Yendor,\n",
    "         and he hid it in the dark cavities of Gehennom, the\n",
    "         Under World, where he now lurks, and bides his time.\n",
    "     \n",
    "     Your god Manannan Mac Lir seeks to possess the Amulet, and with it\n",
    "     to gain deserved ascendance over the other gods.\n",
    "     \n",
    "     You, a newly trained Aspirant, have been heralded\n",
    "     from birth as the instrument of Manannan Mac Lir.  You are destined\n",
    "     to recover the Amulet for your deity, or die in the\n",
    "     attempt.  Your hour of destiny has come.  For the sake\n",
    "     of us all:  Go bravely with Manannan Mac Lir!\n",
    "     --More--\n",
    "                                      |..f.Z$.\n",
    "                                      |...@..|\n",
    "                                      --------\n",
    "\n",
    "Mia the Aspirant               St:13 Dx:1\n",
    " Co:14 In:12 Wi:18 Ch:8 Chaoti\n",
    "Dlvl:1 $:0 HP:14(14) Pw:8(8) AC:7 Xp:1\n"
   ]
  }
 ],
 "metadata": {
  "kernelspec": {
   "display_name": "Python 3 (ipykernel)",
   "language": "python",
   "name": "python3"
  },
  "language_info": {
   "codemirror_mode": {
    "name": "ipython",
    "version": 3
   },
   "file_extension": ".py",
   "mimetype": "text/x-python",
   "name": "python",
   "nbconvert_exporter": "python",
   "pygments_lexer": "ipython3",
   "version": "3.11.4"
  }
 },
 "nbformat": 4,
 "nbformat_minor": 5
}
